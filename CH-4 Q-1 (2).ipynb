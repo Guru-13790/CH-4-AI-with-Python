{
 "cells": [
  {
   "cell_type": "code",
   "execution_count": 1,
   "id": "6b7654a9-0324-4d89-b1ce-2b60b84b10b3",
   "metadata": {},
   "outputs": [
    {
     "name": "stdout",
     "output_type": "stream",
     "text": [
      "Model 1 (bmi and s5) RMSE: 53.8687009455092, R2: 0.4522925957397932\n",
      "Model 2 (bmi, s5, and age) RMSE: 54.038191262423574, R2: 0.4488406045123452\n"
     ]
    },
    {
     "data": {
      "text/plain": [
       "\" \\nExplanation:\\n- If the R2 score improves and RMSE decreases when adding 'age', it means 'age' is helping in improving the model's performance.\\n- If the improvement is minimal, it might suggest that 'age' is not a significant predictor for this dataset. \\n\""
      ]
     },
     "execution_count": 1,
     "metadata": {},
     "output_type": "execute_result"
    }
   ],
   "source": [
    "import numpy as np\n",
    "import pandas as pd\n",
    "from sklearn.model_selection import train_test_split\n",
    "from sklearn.linear_model import LinearRegression\n",
    "from sklearn.metrics import mean_squared_error, r2_score\n",
    "from sklearn.datasets import load_diabetes\n",
    "\n",
    "# Load the diabetes dataset\n",
    "diabetes = load_diabetes()\n",
    "X = diabetes.data\n",
    "y = diabetes.target\n",
    "\n",
    "# Convert to DataFrame for ease of manipulation\n",
    "df = pd.DataFrame(X, columns=diabetes.feature_names)\n",
    "df['target'] = y\n",
    "\n",
    "# Split into training and testing sets (80/20 split)\n",
    "X_train, X_test, y_train, y_test = train_test_split(df[['bmi', 's5']], df['target'], test_size=0.2, random_state=42)\n",
    "\n",
    "# Train model with bmi and s5\n",
    "model_1 = LinearRegression()\n",
    "model_1.fit(X_train, y_train)\n",
    "\n",
    "# Make predictions and evaluate\n",
    "y_pred_1 = model_1.predict(X_test)\n",
    "rmse_1 = np.sqrt(mean_squared_error(y_test, y_pred_1))\n",
    "r2_1 = r2_score(y_test, y_pred_1)\n",
    "\n",
    "# Now add 'age' to the model\n",
    "X_train_extended = X_train.assign(age=df.loc[X_train.index, 'age'])\n",
    "X_test_extended = X_test.assign(age=df.loc[X_test.index, 'age'])\n",
    "\n",
    "model_2 = LinearRegression()\n",
    "model_2.fit(X_train_extended, y_train)\n",
    "\n",
    "# Make predictions and evaluate\n",
    "y_pred_2 = model_2.predict(X_test_extended)\n",
    "rmse_2 = np.sqrt(mean_squared_error(y_test, y_pred_2))\n",
    "r2_2 = r2_score(y_test, y_pred_2)\n",
    "\n",
    "print(f\"Model 1 (bmi and s5) RMSE: {rmse_1}, R2: {r2_1}\")\n",
    "print(f\"Model 2 (bmi, s5, and age) RMSE: {rmse_2}, R2: {r2_2}\")\n",
    "\n",
    "\"\"\" \n",
    "Explanation:\n",
    "- If the R2 score improves and RMSE decreases when adding 'age', it means 'age' is helping in improving the model's performance.\n",
    "- If the improvement is minimal, it might suggest that 'age' is not a significant predictor for this dataset. \n",
    "\"\"\"\n"
   ]
  },
  {
   "cell_type": "code",
   "execution_count": null,
   "id": "4f307284-c09d-471a-a71d-9e1bef739991",
   "metadata": {},
   "outputs": [],
   "source": []
  }
 ],
 "metadata": {
  "kernelspec": {
   "display_name": "Python 3 (ipykernel)",
   "language": "python",
   "name": "python3"
  },
  "language_info": {
   "codemirror_mode": {
    "name": "ipython",
    "version": 3
   },
   "file_extension": ".py",
   "mimetype": "text/x-python",
   "name": "python",
   "nbconvert_exporter": "python",
   "pygments_lexer": "ipython3",
   "version": "3.12.7"
  }
 },
 "nbformat": 4,
 "nbformat_minor": 5
}
