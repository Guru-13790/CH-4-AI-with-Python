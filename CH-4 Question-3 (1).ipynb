{
 "cells": [
  {
   "cell_type": "code",
   "execution_count": null,
   "id": "ce93e9ec-35e5-4ce7-b38f-a6961abe0482",
   "metadata": {},
   "outputs": [],
   "source": [
    "# Read Auto.csv\n",
    "df_auto = pd.read_csv('Auto.csv')\n",
    "\n",
    "# Display first few rows\n",
    "print(df_auto.head())\n"
   ]
  },
  {
   "cell_type": "code",
   "execution_count": null,
   "id": "a6d68787-3295-4490-aaf2-ce25012d6c21",
   "metadata": {},
   "outputs": [],
   "source": [
    "# Exclude 'mpg', 'name', and 'origin' from features\n",
    "X = df_auto.drop(['mpg', 'name', 'origin'], axis=1)\n",
    "y = df_auto['mpg']\n"
   ]
  },
  {
   "cell_type": "code",
   "execution_count": null,
   "id": "622407d6-feb9-4c42-af8e-909ad7e07dd9",
   "metadata": {},
   "outputs": [],
   "source": [
    "# Split into 80/20 train-test\n",
    "X_train, X_test, y_train, y_test = train_test_split(X, y, test_size=0.2, random_state=42)\n"
   ]
  },
  {
   "cell_type": "code",
   "execution_count": null,
   "id": "d1a13afa-ef8f-4277-b856-eaf967275f3d",
   "metadata": {},
   "outputs": [],
   "source": [
    "from sklearn.linear_model import Ridge, Lasso\n",
    "\n",
    "# Ridge regression\n",
    "ridge = Ridge()\n",
    "ridge.fit(X_train, y_train)\n",
    "\n",
    "# Lasso regression\n",
    "lasso = Lasso()\n",
    "lasso.fit(X_train, y_train)\n"
   ]
  }
 ],
 "metadata": {
  "kernelspec": {
   "display_name": "Python 3 (ipykernel)",
   "language": "python",
   "name": "python3"
  },
  "language_info": {
   "codemirror_mode": {
    "name": "ipython",
    "version": 3
   },
   "file_extension": ".py",
   "mimetype": "text/x-python",
   "name": "python",
   "nbconvert_exporter": "python",
   "pygments_lexer": "ipython3",
   "version": "3.12.7"
  }
 },
 "nbformat": 4,
 "nbformat_minor": 5
}
